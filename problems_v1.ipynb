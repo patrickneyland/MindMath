{
 "cells": [
  {
   "cell_type": "code",
   "execution_count": 7,
   "id": "1039ebe7",
   "metadata": {},
   "outputs": [],
   "source": [
    "import random\n",
    "\n",
    "def add_problem():\n",
    "    num1 = random.randint(1, 100)\n",
    "    num2 = random.randint(1, 100)\n",
    "    problem = f\"{num1} + {num2} = ?\"\n",
    "    solution = num1 + num2\n",
    "    return problem, solution\n",
    "\n",
    "def subtract_problem():\n",
    "    num1 = random.randint(1, 100)\n",
    "    num2 = random.randint(1, 100)\n",
    "    problem = f\"{num1} - {num2} = ?\"\n",
    "    solution = num1 - num2\n",
    "    return problem, solution\n",
    "\n",
    "def multiply_problem():\n",
    "    num1 = random.randint(1, 15)\n",
    "    num2 = random.randint(1, 15)\n",
    "    problem = f\"{num1} * {num2} = ?\"\n",
    "    solution = num1 * num2\n",
    "    return problem, solution\n",
    "\n",
    "def square_problem():\n",
    "    num1 = random.randint(1, 10)\n",
    "    num2 = random.randint(0, 4)\n",
    "    problem = f\"{num1} $^$ {num2} = ?\"\n",
    "    solution = num1 ** num2\n",
    "    return problem, solution\n",
    "\n",
    "def generate_math_problem():\n",
    "    problem_types = [add_problem, \n",
    "                     subtract_problem, \n",
    "                     multiply_problem,  \n",
    "                     square_problem]\n",
    "    problem_type = random.choice(problem_types)\n",
    "    return problem_type()\n",
    "\n",
    "def get_answer(problem):\n",
    "    answer = int(input(problem + \" Your answer: \"))\n",
    "    return answer\n",
    "\n",
    "num_correct = 0\n",
    "\n",
    "while True:\n",
    "    problem, solution = generate_math_problem()\n",
    "    answer = get_answer(problem)\n",
    "    if answer == solution:\n",
    "        num_correct += 1\n",
    "        print(\"Correct!\")\n",
    "        break\n",
    "    else:\n",
    "        num_correct = 0\n",
    "        print(\"Incorrect.\")\n"
   ]
  },
  {
   "cell_type": "code",
   "execution_count": null,
   "id": "2f49178f",
   "metadata": {},
   "outputs": [
    {
     "name": "stdout",
     "output_type": "stream",
     "text": [
      "Correct!\n"
     ]
    },
    {
     "ename": "ValueError",
     "evalue": "invalid literal for int() with base 10: ''",
     "output_type": "error",
     "traceback": [
      "\u001b[1;31m---------------------------------------------------------------------------\u001b[0m",
      "\u001b[1;31mValueError\u001b[0m                                Traceback (most recent call last)",
      "Cell \u001b[1;32mIn [5], line 3\u001b[0m\n\u001b[0;32m      1\u001b[0m \u001b[39mwhile\u001b[39;00m \u001b[39mTrue\u001b[39;00m:\n\u001b[0;32m      2\u001b[0m     problem, solution \u001b[39m=\u001b[39m generate_math_problem()\n\u001b[1;32m----> 3\u001b[0m     answer \u001b[39m=\u001b[39m get_answer(problem)\n\u001b[0;32m      4\u001b[0m     \u001b[39mif\u001b[39;00m answer \u001b[39m==\u001b[39m solution:\n\u001b[0;32m      5\u001b[0m         num_correct \u001b[39m+\u001b[39m\u001b[39m=\u001b[39m \u001b[39m1\u001b[39m\n",
      "Cell \u001b[1;32mIn [4], line 40\u001b[0m, in \u001b[0;36mget_answer\u001b[1;34m(problem)\u001b[0m\n\u001b[0;32m     39\u001b[0m \u001b[39mdef\u001b[39;00m \u001b[39mget_answer\u001b[39m(problem):\n\u001b[1;32m---> 40\u001b[0m     answer \u001b[39m=\u001b[39m \u001b[39mint\u001b[39;49m(\u001b[39minput\u001b[39;49m(problem \u001b[39m+\u001b[39;49m \u001b[39m\"\u001b[39;49m\u001b[39m Your answer: \u001b[39;49m\u001b[39m\"\u001b[39;49m))\n\u001b[0;32m     41\u001b[0m     \u001b[39mreturn\u001b[39;00m answer\n",
      "\u001b[1;31mValueError\u001b[0m: invalid literal for int() with base 10: ''"
     ]
    }
   ],
   "source": [
    "while True:\n",
    "    problem, solution = generate_math_problem()\n",
    "    answer = get_answer(problem)\n",
    "    if answer == solution:\n",
    "        num_correct += 1\n",
    "        print(\"Correct!\")\n",
    "#        break\n",
    "    else:\n",
    "        num_correct = 0\n",
    "        print(\"Incorrect.\")"
   ]
  },
  {
   "cell_type": "code",
   "execution_count": null,
   "id": "5a505e05",
   "metadata": {},
   "outputs": [],
   "source": []
  }
 ],
 "metadata": {
  "kernelspec": {
   "display_name": "Python 3",
   "language": "python",
   "name": "python3"
  },
  "language_info": {
   "codemirror_mode": {
    "name": "ipython",
    "version": 3
   },
   "file_extension": ".py",
   "mimetype": "text/x-python",
   "name": "python",
   "nbconvert_exporter": "python",
   "pygments_lexer": "ipython3",
   "version": "3.10.10"
  },
  "vscode": {
   "interpreter": {
    "hash": "48bb8ccca6e6802098c80f2b059636e3d4fe73d8c5f2083887f2f1f145f0c1e6"
   }
  }
 },
 "nbformat": 4,
 "nbformat_minor": 5
}
